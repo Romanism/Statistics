{
 "cells": [
  {
   "cell_type": "markdown",
   "metadata": {},
   "source": [
    "## 2. 자료의 종류와 요약"
   ]
  },
  {
   "cell_type": "markdown",
   "metadata": {},
   "source": [
    "- 자료의 종류 및 측정\n",
    "- 자료의 수치 및 그래프 요약"
   ]
  },
  {
   "cell_type": "markdown",
   "metadata": {},
   "source": [
    "---"
   ]
  },
  {
   "cell_type": "markdown",
   "metadata": {},
   "source": [
    "### 2.1 자료(Data)의 종류 및 측정"
   ]
  },
  {
   "cell_type": "markdown",
   "metadata": {},
   "source": [
    "#### 2.1.1 자료 수집"
   ]
  },
  {
   "cell_type": "markdown",
   "metadata": {},
   "source": [
    "- 표본조사 (Sample survey)\n",
    "\n",
    "\n",
    "    - 관심 대상 집단 (모집단)의 일부를 조사\n",
    "    - 표본이 잘못되면 분석 결과를 신뢰할 수 없음\n",
    "    - 단순랜덤, 계통 추출, 집락추출, 층화추출\n",
    "  \n",
    "  \n",
    "- 실험 (Experiment)\n",
    "\n",
    "\n",
    "    - 특정 목적하에서 실험대상에 처리를 가한 후, 결과를 관찰하여 자료를 수집\n",
    "    - 비료가 어떤게 좋지? 땅은 어떤 땅이 좋지?"
   ]
  },
  {
   "cell_type": "markdown",
   "metadata": {},
   "source": [
    "#### 2.1.2 자료 측정"
   ]
  },
  {
   "cell_type": "markdown",
   "metadata": {},
   "source": [
    "**1) 범주형 (이산형) 자료 (Categorical)** : 질적 (Qualitative)자료"
   ]
  },
  {
   "cell_type": "markdown",
   "metadata": {},
   "source": [
    "- 명목 척도 (Nominal measure)\n",
    "\n",
    "\n",
    "    - 측정대상이 어느 집단에 속하는지를 분류하는 경우\n",
    "    - 성별 (남 / 여), 과일 (사과 / 딸기 /...) 등\n",
    "    \n",
    "    \n",
    "- 순서 척도 (Ordinal measure)\n",
    "\n",
    "\n",
    "    - 측정 대상의 서열관계 (순서, 방향성이 존재)를 분류하는 경우에 사용\n",
    "    - 선호도 (좋음 / 보통 / 나쁨), 크기 (대 / 중 / 소) 등"
   ]
  },
  {
   "cell_type": "markdown",
   "metadata": {},
   "source": [
    "**2) 연속형 (이산형) 자료 (Continuos)** : 양적 (Quantitative)자료"
   ]
  },
  {
   "cell_type": "markdown",
   "metadata": {},
   "source": [
    "- 구간 척도 (Interval measure)\n",
    "\n",
    "\n",
    "    - 측정 대상이 가지고 있는 속성의 양을 측정하는 경우 사용\n",
    "    - 숫자로 측정 되지만, 절대적 원점이 존재하지 않고 비율의 의미가 없음\n",
    "    - 온도, 년도, 주가지수 등\n",
    "    \n",
    "    \n",
    "- 비율 척도 (Ratio measure)\n",
    "\n",
    "\n",
    "    - 측정 대상이 가지고 있는 속성의 양을 측정하는 경우 사용\n",
    "    - 숫자로 측정 되며 절대적 원점이 존재하고 비율이 의미있음\n",
    "    - 키, 몸무게 등"
   ]
  },
  {
   "cell_type": "markdown",
   "metadata": {},
   "source": [
    "---"
   ]
  },
  {
   "cell_type": "markdown",
   "metadata": {},
   "source": [
    "### 2.2 자료의 수치 및 그래프 요약"
   ]
  },
  {
   "cell_type": "markdown",
   "metadata": {},
   "source": [
    "#### 2.2.1 표와 그림으로 자료 요약"
   ]
  },
  {
   "cell_type": "markdown",
   "metadata": {},
   "source": [
    "- 질적 자료의 요약 : 명목자료, 순서자료\n",
    "\n",
    "\n",
    "    - 표 : 분할표, 도수 분포표\n",
    "    - 그림 : 파이 차트, 막대 그래프 등\n",
    "    \n",
    "    \n",
    "- 양적 자료의 요약 : 구간자료, 비율자료\n",
    "\n",
    "\n",
    "    - 표 : 도수분포표\n",
    "    - 그림 : 막대그래프 (히스토그램), 줄기 잎 그림, 상자그림 등"
   ]
  },
  {
   "cell_type": "markdown",
   "metadata": {},
   "source": [
    "#### 2.2.2 수치로의 자료 요약"
   ]
  },
  {
   "cell_type": "markdown",
   "metadata": {},
   "source": [
    "- 자료의 중심을 측정하는 통계량 (3M)\n",
    "\n",
    "\n",
    "    - 평균 (Mean) : 표본의 산술평균, 관측된 자료에 대해 유일하게 존재, 이상치와 극단값에 민감, 양적 자료에만 적용\n",
    "    - 중위수 (Median) : 크기 순서로 정리된 표본의 가운데 위치한 값, 관측된 자료에 대해 유일하게 존재, 이상치와 극단값에 둔감, 양적 자료에만 적용\n",
    "    - 최빈값 (Mode) : 자료중 가장 빈도가 높은 값, 이상치와 극단값에 둔감, 양적, 질적 자료에 모두 적용\n",
    "    \n",
    "    \n",
    "- 자료의 산포를 측정하는 통계량\n",
    "\n",
    "\n",
    "    - 범위 (Range) : 최대값과 최소값의 차이\n",
    "    - 분위수 (Qurtile) : 0분위수(최소값), 1분위수(25%), 2분위수(중앙값), 3분위수(75%), 4분위수(최대값)\n",
    "    - 분산 (Variance) : 평균과 자료와 거리 제곱의 합 (편차^2의 평균)\n",
    "    - 표준편차 (Standard Deviation) : 분산의 양의 제곱근"
   ]
  }
 ],
 "metadata": {
  "kernelspec": {
   "display_name": "Python 3",
   "language": "python",
   "name": "python3"
  },
  "language_info": {
   "codemirror_mode": {
    "name": "ipython",
    "version": 3
   },
   "file_extension": ".py",
   "mimetype": "text/x-python",
   "name": "python",
   "nbconvert_exporter": "python",
   "pygments_lexer": "ipython3",
   "version": "3.6.4"
  }
 },
 "nbformat": 4,
 "nbformat_minor": 2
}
