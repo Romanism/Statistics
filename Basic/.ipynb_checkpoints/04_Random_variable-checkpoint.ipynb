{
 "cells": [
  {
   "cell_type": "markdown",
   "metadata": {},
   "source": [
    "## 4. 확률 변수와 확률 분포"
   ]
  },
  {
   "cell_type": "markdown",
   "metadata": {},
   "source": [
    "- 확률 변수의 이해\n",
    "- 확률 분포함수의 이해\n",
    "- 결합 확률분포의 이해\n",
    "- 확률 변수의 요약"
   ]
  },
  {
   "cell_type": "markdown",
   "metadata": {},
   "source": [
    "---"
   ]
  },
  {
   "cell_type": "markdown",
   "metadata": {},
   "source": [
    "### 4.1 확률변수 (Random Variable)의 이해"
   ]
  },
  {
   "cell_type": "markdown",
   "metadata": {},
   "source": [
    "#### 4.1.1 개념"
   ]
  },
  {
   "cell_type": "markdown",
   "metadata": {},
   "source": [
    "- 숫자의 종류\n",
    "\n",
    "\n",
    "    - 상수 : 항상 똑같은(상) 숫자(수)\n",
    "    - 변수 : 변하는(변) 숫자(수)\n",
    "   \n",
    "   \n",
    "- 숫자로의 변환\n",
    "\n",
    "\n",
    "    - 이유 : 통계학에서 요약, 정보 전달, 분석 등은 숫자를 이용한 계산을 통하여 이루어지므로 모든 사건들이 수치로 표현되어야 함\n",
    "    - 동전던지기 : 0(앞면), 1(뒷면)  /  성별 : 1(남), 2(여) 등\n",
    "\n",
    "\n",
    "- 확률변수의 정의 ($X$)\n",
    "\n",
    "\n",
    "    - 특정 사건에서 여러가지 결과들이 시현되는데, 모든 가능한 결과들을 표현하는 방식\n",
    "    - 확률이라는 규칙을 가지면서 변하는 사건을 숫자로 표현한 것"
   ]
  },
  {
   "cell_type": "markdown",
   "metadata": {},
   "source": [
    "#### 4.1.2 종류"
   ]
  },
  {
   "cell_type": "markdown",
   "metadata": {},
   "source": [
    "- 이산형(Discrete) 확률 변수\n",
    "    \n",
    "    \n",
    "    - 확률 변수가 가질 수 있는 값들을 셀 수 있는 경우\n",
    "    - 동전 던지기, 주사위 던지기 등\n",
    "\n",
    "\n",
    "- 연속형(Continuous) 확률 변수\n",
    "\n",
    "\n",
    "    - 확률 변수가 가질 수 있는 값들을 셀 수 없는 경우\n",
    "    - 키, 몸무게 등"
   ]
  },
  {
   "cell_type": "markdown",
   "metadata": {},
   "source": [
    "---"
   ]
  },
  {
   "cell_type": "markdown",
   "metadata": {},
   "source": [
    "### 4.2 확률 분포 함수의 이해"
   ]
  },
  {
   "cell_type": "markdown",
   "metadata": {},
   "source": [
    "#### 4.2.1 정의"
   ]
  },
  {
   "cell_type": "markdown",
   "metadata": {},
   "source": [
    ": 확률 변수가 가지는 규칙, 즉 확률을 수식으로 표현한 것을 확률 분포 함수라고 함"
   ]
  }
 ],
 "metadata": {
  "kernelspec": {
   "display_name": "Python 3",
   "language": "python",
   "name": "python3"
  },
  "language_info": {
   "codemirror_mode": {
    "name": "ipython",
    "version": 3
   },
   "file_extension": ".py",
   "mimetype": "text/x-python",
   "name": "python",
   "nbconvert_exporter": "python",
   "pygments_lexer": "ipython3",
   "version": "3.6.4"
  }
 },
 "nbformat": 4,
 "nbformat_minor": 2
}
