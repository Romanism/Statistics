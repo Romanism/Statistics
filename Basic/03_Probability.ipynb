{
 "cells": [
  {
   "cell_type": "markdown",
   "metadata": {},
   "source": [
    "## 3. 확률의 이해"
   ]
  },
  {
   "cell_type": "markdown",
   "metadata": {},
   "source": [
    "- 확률의 기초개념 및 성질\n",
    "- 조건부 확률과 독립\n",
    "- 베이즈 이론"
   ]
  },
  {
   "cell_type": "markdown",
   "metadata": {},
   "source": [
    "---"
   ]
  },
  {
   "cell_type": "markdown",
   "metadata": {},
   "source": [
    "### 3.1 확률의 기초 개념 및 성질"
   ]
  },
  {
   "cell_type": "markdown",
   "metadata": {},
   "source": [
    "#### 3.1.1 확률(Probability)"
   ]
  },
  {
   "cell_type": "markdown",
   "metadata": {},
   "source": [
    "    가능성의 척도를 측정하는 숫자, 0 ~ 1 사이 값을 가짐"
   ]
  },
  {
   "cell_type": "markdown",
   "metadata": {},
   "source": [
    "#### 3.1.2 확률 실험의 이해"
   ]
  },
  {
   "cell_type": "markdown",
   "metadata": {},
   "source": [
    "- 시행 (Trial) : 확률 실험을 한 번 수행하는 것\n",
    "\n",
    "\n",
    "- 원소 (element) : 각 시행의 결과\n",
    "\n",
    "\n",
    "- 표본공간 (Sample space) : 실험의 시행에서 나타날 수 있는 모든 결과들의 집합"
   ]
  },
  {
   "cell_type": "markdown",
   "metadata": {},
   "source": [
    "#### 3.1.3 기초 개념의 이해"
   ]
  },
  {
   "cell_type": "markdown",
   "metadata": {},
   "source": [
    "공리 (Axiom) : 증명이 필요 없거나 직관적으로 자명한 진리의 명제"
   ]
  },
  {
   "cell_type": "markdown",
   "metadata": {},
   "source": [
    "확률의 공리 (3가지)\n",
    "\n",
    "- $0 \\leq P(A) \\leq 1\\;\\;$ (모든 확률은 0 ~ 1 사이에 존재)\n",
    "\n",
    "\n",
    "- $P(\\emptyset) = 0,\\; P(\\Omega) = 1\\;\\;$ (공집합 = 0, 전체집합 = 1)\n",
    "\n",
    "\n",
    "- $P(A_1 \\cup A_2 \\cup A_3 ...) = P(A_1)+P(A_2)+P(A_3)+...\\;$ (배반 사건들의 합집합의 확률 = 각 확률의 덧셈) "
   ]
  },
  {
   "cell_type": "markdown",
   "metadata": {},
   "source": [
    "#### 3.1.4 확률의 주요 성질"
   ]
  },
  {
   "cell_type": "markdown",
   "metadata": {},
   "source": [
    "- $P(A^c) = 1-P(A)\\;\\;$ (여집합의 확률 = 1 - 원래집합의 확률)\n",
    "\n",
    "\n",
    "- $A\\subset B\\;$이면 $P(A)\\subset P(B)\\;$ (A가 B의 부분집합이면 A의 확률은 B의 확률보다 작거나 같음)\n",
    "\n",
    "\n",
    "- $P(A \\cup B) = P(A) + P(B) – P(A,B)\\;$ (A와 B의 여집합의 확률 = 두 집합의 각각의 확률을 더한후 교집합의 확률을 뺌)"
   ]
  },
  {
   "cell_type": "markdown",
   "metadata": {},
   "source": [
    "---"
   ]
  },
  {
   "cell_type": "markdown",
   "metadata": {},
   "source": [
    "### 3.2 조건부 확률과 독립"
   ]
  },
  {
   "cell_type": "markdown",
   "metadata": {},
   "source": [
    "#### 3.2.1 조건부 확률 (Conditional Probability)"
   ]
  },
  {
   "cell_type": "markdown",
   "metadata": {},
   "source": [
    ": 사건 B가 주어졌을 때, 사건 A가 일어나는 확률\n",
    "\n",
    "$$P(A|B) = \\dfrac{P(A,B)}{P(B)}\\;\\;$$"
   ]
  },
  {
   "cell_type": "markdown",
   "metadata": {},
   "source": [
    "#### 3.2.2 독립 (Independent)"
   ]
  },
  {
   "cell_type": "markdown",
   "metadata": {},
   "source": [
    ": 두 사건의 교집합의 확률은 각 확률의 곱과 같음\n",
    "\n",
    "$$P(A,B) = P(A)P(B)$$"
   ]
  },
  {
   "cell_type": "markdown",
   "metadata": {},
   "source": [
    "cf ) 배반사건과는 다르다 ($P(A,B) = P(\\emptyset) = 0$)"
   ]
  },
  {
   "cell_type": "markdown",
   "metadata": {},
   "source": [
    "---"
   ]
  },
  {
   "cell_type": "markdown",
   "metadata": {},
   "source": [
    "### 3.3 베이즈 이론 (Bayes Theorem)"
   ]
  },
  {
   "cell_type": "markdown",
   "metadata": {},
   "source": [
    "#### 3.3.1 배우는 이유\n",
    "\n",
    ": 사건이 일어나고 나서 이 사건이 실제로 얼마의 확률로 이뤄진건지 알고 싶을 때 ( 역으로 찾아가고 싶다!! )"
   ]
  },
  {
   "cell_type": "markdown",
   "metadata": {},
   "source": [
    "#### 3.3.2 전확률"
   ]
  },
  {
   "cell_type": "markdown",
   "metadata": {},
   "source": [
    ": 사건 $A$가 발생할 확률을 $A$와 전체에서 분할된 $B_i$들의 교집합 확률의 합으로 생각\n",
    "\n",
    "$$ P(A) = \\sum_i P( B_i \\cap A) = {\\sum_i P(B_i)P(A|B_i)} $$"
   ]
  },
  {
   "cell_type": "markdown",
   "metadata": {},
   "source": [
    "조건\n",
    "\n",
    "\n",
    "- $B_i \\cap B_j = \\emptyset \\;\\;\\; (i \\neq j)\\;\\;$ (교집합이 없음)\n",
    "\n",
    "\n",
    "- $B_1 \\cup B_2 \\cup \\cdots  = \\Omega\\;\\;$ (더했을 때 전체 표본 공간)"
   ]
  },
  {
   "cell_type": "markdown",
   "metadata": {},
   "source": [
    "#### 3.3.3 베이즈 이론"
   ]
  },
  {
   "cell_type": "markdown",
   "metadata": {},
   "source": [
    ": 조건부 확률을 계산하고자 하는데, 알고 있는 정보를 활용하여 궁금한 확률의 계산이 가능하도록 만들어진 이론"
   ]
  },
  {
   "cell_type": "markdown",
   "metadata": {},
   "source": [
    "$$P(A_j|B) = \\dfrac{P(B|A_j)P(A_j)}{P(B)} = \\dfrac{P(B|A_j)P(A_j)}{\\sum_i P(A_i, B)}= \\dfrac{P(B|A_j)P(A_j)}{\\sum_i P(B|A_i)P(A_i)}$$"
   ]
  }
 ],
 "metadata": {
  "kernelspec": {
   "display_name": "Python 3",
   "language": "python",
   "name": "python3"
  },
  "language_info": {
   "codemirror_mode": {
    "name": "ipython",
    "version": 3
   },
   "file_extension": ".py",
   "mimetype": "text/x-python",
   "name": "python",
   "nbconvert_exporter": "python",
   "pygments_lexer": "ipython3",
   "version": "3.6.4"
  }
 },
 "nbformat": 4,
 "nbformat_minor": 2
}
