{
 "cells": [
  {
   "cell_type": "markdown",
   "metadata": {},
   "source": [
    "## 1. 통계와 통계학"
   ]
  },
  {
   "cell_type": "markdown",
   "metadata": {},
   "source": [
    "- 통계란 무엇인가\n",
    "- 통계학이란 무엇인가"
   ]
  },
  {
   "cell_type": "markdown",
   "metadata": {},
   "source": [
    "---"
   ]
  },
  {
   "cell_type": "markdown",
   "metadata": {},
   "source": [
    "### 1.1 통계(Statistic)란 무엇인가"
   ]
  },
  {
   "cell_type": "markdown",
   "metadata": {},
   "source": [
    "    특정 집단을 대상으로 한 조사나 실험에 의해 구한 결과에 대한 요약된 형태의 표현"
   ]
  },
  {
   "cell_type": "markdown",
   "metadata": {},
   "source": [
    "---"
   ]
  },
  {
   "cell_type": "markdown",
   "metadata": {},
   "source": [
    "### 1.2 통계학(Statistics)이란 무엇인가"
   ]
  },
  {
   "cell_type": "markdown",
   "metadata": {},
   "source": [
    "#### 1.2.1 정의"
   ]
  },
  {
   "cell_type": "markdown",
   "metadata": {},
   "source": [
    "- `불확실한 현상`을 대상으로 `자료를 수집`하여 `원하는 결과를 도출`하고자 `적절한 모형을 설정`하여 `추정, 검정, 예측`을 하는 학문\n",
    "\n",
    "\n",
    "- 통계 + 학문 = 통계를 내는 학문 (어떻게 하면 궁금한 것이 잘 풀릴까? 어떻게 하면 잘 얘기해줄 수 있을까?)"
   ]
  },
  {
   "cell_type": "markdown",
   "metadata": {},
   "source": [
    "#### 1.2.2 과정"
   ]
  },
  {
   "cell_type": "markdown",
   "metadata": {},
   "source": [
    "#### 1. 불확실한 대상\n",
    "\n",
    "- 모집단으로 조사? 표본집단으로 조사? (시간과 비용을 고려)"
   ]
  },
  {
   "cell_type": "markdown",
   "metadata": {},
   "source": [
    "#### 2. 자료의 수집\n",
    "\n",
    "- 표본 조사론 : 어떤 자료가 좋은걸까?\n",
    "- 실험 계획법 : 어떻게 실험하면 될까?"
   ]
  },
  {
   "cell_type": "markdown",
   "metadata": {},
   "source": [
    "#### 3. 자료의 확인\n",
    "\n",
    "- 탐색적 데이터분석 : 자료가 어떻게 생겼을까? 빈도분석, 최대, 최소, 범위? 이상한건 없나?"
   ]
  },
  {
   "cell_type": "markdown",
   "metadata": {},
   "source": [
    "#### 4. 자료의 요약\n",
    "\n",
    "- 기술통계 : 어떻게 요약할까? 어떤 것으로 요약할까? - 중심(3M), 산포(분산, 범위), 형태(왜도, 첨도)"
   ]
  },
  {
   "cell_type": "markdown",
   "metadata": {},
   "source": [
    "#### 5. 궁금한 대상\n",
    "\n",
    "- 통계적 추론 : 표본으로 전체를 얘기하고 싶은데?\n",
    "- 가설 검정 : 평균은? 분산은?"
   ]
  },
  {
   "cell_type": "markdown",
   "metadata": {},
   "source": [
    "#### 6. 해소방식 1\n",
    "\n",
    "- 1집단 : t-test (평균이 뭐지?), F-test (분산이 뭐지?)\n",
    "- 2집단 : t-test (평균이 같다), F-test (분산이 같다), 짝진표본\n",
    "- 3집단 : ANOVA (평균이 같다)"
   ]
  },
  {
   "cell_type": "markdown",
   "metadata": {},
   "source": [
    "#### 7. 해소방식 2\n",
    "\n",
    "- 회귀분석 : 관계가 있나? (공분산, 상관관계)\n",
    "- 범주형 자료분석: 자료가 설문지 답인데? (독립)\n",
    "- 시계열 분석 : 자료가 시간에 따라?\n",
    "- 다변량 분석 : 관심 대상 변수가 많은데?"
   ]
  },
  {
   "cell_type": "markdown",
   "metadata": {},
   "source": [
    "#### 8. 해소방식 3\n",
    "\n",
    "- GLM, 베이지안 방식 분석 등 : 좀 더 고차원으로?"
   ]
  },
  {
   "cell_type": "markdown",
   "metadata": {},
   "source": [
    "#### 9. 근거는?\n",
    "\n",
    "- 확률 : 무엇으로 얘기하나?\n",
    "- 분포 : 무엇으로 검정하나? (정규, t, F, 이항, 포아송 등)\n",
    "- 수리 통계 : 이론과 증명 (분포의 관계, 중심 극한 정리 등)\n",
    "- 응용 통계 : 궁금증 해소 방식의 적용 방안"
   ]
  },
  {
   "cell_type": "markdown",
   "metadata": {},
   "source": [
    "#### 10. 무엇으로?\n",
    "\n",
    "- SW : SAS, SPSS, R, EXCEL 등"
   ]
  }
 ],
 "metadata": {
  "kernelspec": {
   "display_name": "Python 3",
   "language": "python",
   "name": "python3"
  },
  "language_info": {
   "codemirror_mode": {
    "name": "ipython",
    "version": 3
   },
   "file_extension": ".py",
   "mimetype": "text/x-python",
   "name": "python",
   "nbconvert_exporter": "python",
   "pygments_lexer": "ipython3",
   "version": "3.6.4"
  }
 },
 "nbformat": 4,
 "nbformat_minor": 2
}
